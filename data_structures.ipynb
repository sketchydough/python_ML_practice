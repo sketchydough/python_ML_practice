{
 "cells": [
  {
   "cell_type": "code",
   "execution_count": 1,
   "id": "eb90ca71-a863-4f62-a4fb-d35c73d27f69",
   "metadata": {},
   "outputs": [],
   "source": [
    "#creating lists->note: in lists we can change the items but in tuples we cannot\n",
    "empty_list=[]\n",
    "\n",
    "fruits=[\"apple\",\"banana\"]\n",
    "\n",
    "nums=[1,2,3]\n",
    "\n",
    "boolean=[True, False,False]\n",
    "\n",
    "mix=[1,\"apple\", True]"
   ]
  },
  {
   "cell_type": "code",
   "execution_count": 3,
   "id": "d2d5ab38-2fea-432e-b7aa-a19f727dc321",
   "metadata": {},
   "outputs": [
    {
     "data": {
      "text/plain": [
       "[1, 'apple', True]"
      ]
     },
     "execution_count": 3,
     "metadata": {},
     "output_type": "execute_result"
    }
   ],
   "source": [
    "#printing lists\n",
    "mix"
   ]
  },
  {
   "cell_type": "code",
   "execution_count": 4,
   "id": "79645b6a-0a90-496b-8c6b-9df8378780ff",
   "metadata": {},
   "outputs": [
    {
     "data": {
      "text/plain": [
       "[1, 2, 3]"
      ]
     },
     "execution_count": 4,
     "metadata": {},
     "output_type": "execute_result"
    }
   ],
   "source": [
    "nums"
   ]
  },
  {
   "cell_type": "code",
   "execution_count": 5,
   "id": "2fe07266-cdf3-4634-9644-05d3d5eb9719",
   "metadata": {},
   "outputs": [
    {
     "data": {
      "text/plain": [
       "1"
      ]
     },
     "execution_count": 5,
     "metadata": {},
     "output_type": "execute_result"
    }
   ],
   "source": [
    "#accessing the elements\n",
    "nums[0]"
   ]
  },
  {
   "cell_type": "code",
   "execution_count": 8,
   "id": "b58bebd3-90eb-4a9a-ac7e-d6e1b1bcf7b6",
   "metadata": {},
   "outputs": [
    {
     "data": {
      "text/plain": [
       "[1, 2]"
      ]
     },
     "execution_count": 8,
     "metadata": {},
     "output_type": "execute_result"
    }
   ],
   "source": [
    "#slicing the list- range start:end\n",
    "nums[0:2]"
   ]
  },
  {
   "cell_type": "code",
   "execution_count": 9,
   "id": "c2abdb2a-8a89-4e72-b31b-6c2f4b9fb7c1",
   "metadata": {},
   "outputs": [
    {
     "data": {
      "text/plain": [
       "[1, 2, 3]"
      ]
     },
     "execution_count": 9,
     "metadata": {},
     "output_type": "execute_result"
    }
   ],
   "source": [
    "nums[0:]\n"
   ]
  },
  {
   "cell_type": "code",
   "execution_count": 12,
   "id": "5fa922f8-7d63-4ae2-b960-07662848795f",
   "metadata": {},
   "outputs": [
    {
     "data": {
      "text/plain": [
       "[1, 2]"
      ]
     },
     "execution_count": 12,
     "metadata": {},
     "output_type": "execute_result"
    }
   ],
   "source": [
    "nums[:2]"
   ]
  },
  {
   "cell_type": "code",
   "execution_count": 16,
   "id": "da9074bb-40e0-4f54-8c95-da8a430c3cd4",
   "metadata": {},
   "outputs": [
    {
     "data": {
      "text/plain": [
       "[True, False]"
      ]
     },
     "execution_count": 16,
     "metadata": {},
     "output_type": "execute_result"
    }
   ],
   "source": [
    "#methods- to access press . and press tab\n",
    "\n",
    "nums.append(4)\n",
    "nums\n",
    "fruits.insert(1,\"kiwi\")\n",
    "fruits\n",
    "boolean.pop()\n",
    "boolean"
   ]
  },
  {
   "cell_type": "code",
   "execution_count": 17,
   "id": "b8188c14-c78b-4baf-b601-6319bac28863",
   "metadata": {},
   "outputs": [],
   "source": [
    "#creating tuples-note: in tuples we cannot change the items\n",
    "\n",
    "empty_tuple=()\n",
    "\n",
    "fruits=(\"apple\", \"banana\")\n",
    "nums=(1,2,3)\n",
    "mix=(1,True,\"a\")"
   ]
  },
  {
   "cell_type": "code",
   "execution_count": 18,
   "id": "f9ac33a3-ac2f-4f2d-a95f-0ff7c69c1329",
   "metadata": {},
   "outputs": [
    {
     "data": {
      "text/plain": [
       "tuple"
      ]
     },
     "execution_count": 18,
     "metadata": {},
     "output_type": "execute_result"
    }
   ],
   "source": [
    "type(mix)"
   ]
  },
  {
   "cell_type": "code",
   "execution_count": 20,
   "id": "05620151-ab04-4538-a88a-dcb577353ab0",
   "metadata": {},
   "outputs": [
    {
     "data": {
      "text/plain": [
       "('apple', 'banana')"
      ]
     },
     "execution_count": 20,
     "metadata": {},
     "output_type": "execute_result"
    }
   ],
   "source": [
    "fruits"
   ]
  },
  {
   "cell_type": "code",
   "execution_count": 22,
   "id": "e4e53aaa-b923-48fc-8e04-5ea0a160de28",
   "metadata": {},
   "outputs": [
    {
     "data": {
      "text/plain": [
       "'banana'"
      ]
     },
     "execution_count": 22,
     "metadata": {},
     "output_type": "execute_result"
    }
   ],
   "source": [
    "fruits[1] #note:here we cannot call it with(), we have to use []"
   ]
  },
  {
   "cell_type": "code",
   "execution_count": 29,
   "id": "6557a761-d0ab-45e4-bf65-31f21309ad94",
   "metadata": {},
   "outputs": [
    {
     "data": {
      "text/plain": [
       "1"
      ]
     },
     "execution_count": 29,
     "metadata": {},
     "output_type": "execute_result"
    }
   ],
   "source": [
    "# fruits[1]=\"jackfruit\" ====error\n",
    "\n",
    "#methods\n",
    "fruits.index(\"banana\") #gives the index"
   ]
  },
  {
   "cell_type": "code",
   "execution_count": 30,
   "id": "58b89557-72d1-4dcf-b500-428e784982e4",
   "metadata": {},
   "outputs": [],
   "source": [
    "#creating sets-unordered collection of unique elements\n",
    "\n",
    "empty_set={}\n",
    "\n",
    "fruits={\"apple\",\"banana\"}\n"
   ]
  },
  {
   "cell_type": "code",
   "execution_count": 32,
   "id": "ae026b83-9341-4c9e-bbc1-e22d2a51d335",
   "metadata": {},
   "outputs": [
    {
     "data": {
      "text/plain": [
       "set"
      ]
     },
     "execution_count": 32,
     "metadata": {},
     "output_type": "execute_result"
    }
   ],
   "source": [
    "type(fruits)"
   ]
  },
  {
   "cell_type": "code",
   "execution_count": 33,
   "id": "95f451c1-d67c-45f5-8226-14115b2d29eb",
   "metadata": {},
   "outputs": [
    {
     "data": {
      "text/plain": [
       "{'apple', 'banana'}"
      ]
     },
     "execution_count": 33,
     "metadata": {},
     "output_type": "execute_result"
    }
   ],
   "source": [
    "#removes duplicates\n",
    "fruits={\"apple\",\"apple\",\"banana\"}\n",
    "fruits"
   ]
  },
  {
   "cell_type": "code",
   "execution_count": 34,
   "id": "dc3d9785-9d39-49d0-8317-80f9c33d7a1f",
   "metadata": {},
   "outputs": [
    {
     "name": "stdout",
     "output_type": "stream",
     "text": [
      "apple\n",
      "banana\n"
     ]
    }
   ],
   "source": [
    "#accessing the items of the list\n",
    "\n",
    "for element in fruits:\n",
    "    print(element)"
   ]
  },
  {
   "cell_type": "code",
   "execution_count": 36,
   "id": "161543fc-12de-42ca-ad4c-c882a15d23cc",
   "metadata": {},
   "outputs": [
    {
     "data": {
      "text/plain": [
       "{'name': 'Alice', 'age': 30, 'height': 3.6}"
      ]
     },
     "execution_count": 36,
     "metadata": {},
     "output_type": "execute_result"
    }
   ],
   "source": [
    "# creating dictionaries= to store key-value pairs & is ordered where key is unique\n",
    "\n",
    "empty_dict={}\n",
    "\n",
    "employee={ 'name':'Alice', 'age':30, \"height\":3.6}\n",
    "employee"
   ]
  },
  {
   "cell_type": "code",
   "execution_count": 37,
   "id": "da825cfb-36aa-43f2-bb73-d4006e32fa3f",
   "metadata": {},
   "outputs": [
    {
     "data": {
      "text/plain": [
       "'Alice'"
      ]
     },
     "execution_count": 37,
     "metadata": {},
     "output_type": "execute_result"
    }
   ],
   "source": [
    "#accessing the item\n",
    "\n",
    "employee[\"name\"]"
   ]
  },
  {
   "cell_type": "code",
   "execution_count": 44,
   "id": "2369e5fc-a293-46bf-ad87-ca6b93f4bd27",
   "metadata": {},
   "outputs": [
    {
     "data": {
      "text/plain": [
       "'Alice'"
      ]
     },
     "execution_count": 44,
     "metadata": {},
     "output_type": "execute_result"
    }
   ],
   "source": [
    "#another way of accessing item\n",
    "employee.get(\"name\")"
   ]
  },
  {
   "cell_type": "code",
   "execution_count": 38,
   "id": "46ce634c-2abc-4834-84dc-39e3dedbf2a4",
   "metadata": {},
   "outputs": [
    {
     "data": {
      "text/plain": [
       "{'name': 'Alice', 'age': 18, 'height': 3.6}"
      ]
     },
     "execution_count": 38,
     "metadata": {},
     "output_type": "execute_result"
    }
   ],
   "source": [
    "#modify the dictionary\n",
    "\n",
    "employee[\"age\"]=18\n",
    "employee"
   ]
  },
  {
   "cell_type": "code",
   "execution_count": 41,
   "id": "7e194957-025b-4261-a827-fb9cc97b8bc8",
   "metadata": {},
   "outputs": [
    {
     "data": {
      "text/plain": [
       "dict_keys(['name', 'age', 'height'])"
      ]
     },
     "execution_count": 41,
     "metadata": {},
     "output_type": "execute_result"
    }
   ],
   "source": [
    "#common operations on dictionary\n",
    "employee.keys()\n"
   ]
  },
  {
   "cell_type": "code",
   "execution_count": 42,
   "id": "21eaa1f4-abf4-4e59-a1a2-85cba7c28f4e",
   "metadata": {},
   "outputs": [
    {
     "data": {
      "text/plain": [
       "dict_values(['Alice', 18, 3.6])"
      ]
     },
     "execution_count": 42,
     "metadata": {},
     "output_type": "execute_result"
    }
   ],
   "source": [
    "employee.values()"
   ]
  },
  {
   "cell_type": "code",
   "execution_count": 43,
   "id": "199dadc3-47c7-4670-a852-8591b37eab8f",
   "metadata": {},
   "outputs": [
    {
     "data": {
      "text/plain": [
       "dict_items([('name', 'Alice'), ('age', 18), ('height', 3.6)])"
      ]
     },
     "execution_count": 43,
     "metadata": {},
     "output_type": "execute_result"
    }
   ],
   "source": [
    "employee.items()"
   ]
  },
  {
   "cell_type": "code",
   "execution_count": null,
   "id": "f3f49559-6e70-45a0-b250-cae0a0cc9fd3",
   "metadata": {},
   "outputs": [],
   "source": []
  }
 ],
 "metadata": {
  "kernelspec": {
   "display_name": "Python [conda env:base] *",
   "language": "python",
   "name": "conda-base-py"
  },
  "language_info": {
   "codemirror_mode": {
    "name": "ipython",
    "version": 3
   },
   "file_extension": ".py",
   "mimetype": "text/x-python",
   "name": "python",
   "nbconvert_exporter": "python",
   "pygments_lexer": "ipython3",
   "version": "3.13.5"
  }
 },
 "nbformat": 4,
 "nbformat_minor": 5
}
