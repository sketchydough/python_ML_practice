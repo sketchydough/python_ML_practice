{
 "cells": [
  {
   "cell_type": "code",
   "execution_count": 1,
   "id": "26239dcc-5b55-4875-91d3-1f82c7861db5",
   "metadata": {},
   "outputs": [
    {
     "name": "stdout",
     "output_type": "stream",
     "text": [
      "its a warm day\n"
     ]
    }
   ],
   "source": [
    "#if statement\n",
    "\n",
    "temp=25\n",
    "if temp >20:\n",
    "    print(\"its a warm day\")"
   ]
  },
  {
   "cell_type": "code",
   "execution_count": 2,
   "id": "02d5fb63-5a32-4325-ad66-1175645dfed0",
   "metadata": {},
   "outputs": [
    {
     "name": "stdout",
     "output_type": "stream",
     "text": [
      "cool\n"
     ]
    }
   ],
   "source": [
    "#if-else\n",
    "temp=25\n",
    "if temp <30:\n",
    "    print(\"cool\")\n",
    "else:\n",
    "    print(\"hot\")"
   ]
  },
  {
   "cell_type": "code",
   "execution_count": 3,
   "id": "debf70fd-b3c9-4131-8389-5625d35327a0",
   "metadata": {},
   "outputs": [
    {
     "name": "stdout",
     "output_type": "stream",
     "text": [
      "hot\n"
     ]
    }
   ],
   "source": [
    "#if-elif-else\n",
    "temp=18\n",
    "if temp<20:\n",
    "    print(\"hot\")\n",
    "elif temp >20:\n",
    "    print(\"cool\")\n",
    "else:\n",
    "    print(\"okay\")"
   ]
  },
  {
   "cell_type": "code",
   "execution_count": 6,
   "id": "ced6f1ad-623b-4ffc-b7a4-17104a1d4d56",
   "metadata": {},
   "outputs": [
    {
     "name": "stdout",
     "output_type": "stream",
     "text": [
      "okayish\n"
     ]
    }
   ],
   "source": [
    "#nested condition\n",
    "temp=13\n",
    "weather=\"sunny\"\n",
    "\n",
    "if temp>15:\n",
    "    if weather == \"sunny\":\n",
    "        print(\"hot\")\n",
    "    else:\n",
    "        print(\"cool\")\n",
    "else:\n",
    "    print(\"okayish\")"
   ]
  },
  {
   "cell_type": "code",
   "execution_count": 7,
   "id": "4f355962-8fb2-407c-9a9a-27fb26f6223e",
   "metadata": {},
   "outputs": [
    {
     "name": "stdout",
     "output_type": "stream",
     "text": [
      "apple\n",
      "banana\n",
      "kiwi\n"
     ]
    }
   ],
   "source": [
    "#for-loop\n",
    "\n",
    "fruits=[\"apple\",\"banana\",\"kiwi\"]\n",
    "\n",
    "for fruit in fruits:\n",
    "    print(fruit)"
   ]
  },
  {
   "cell_type": "code",
   "execution_count": 8,
   "id": "622071dd-7c77-4852-93d7-df513c632308",
   "metadata": {},
   "outputs": [
    {
     "name": "stdout",
     "output_type": "stream",
     "text": [
      "0\n",
      "1\n",
      "2\n",
      "3\n",
      "4\n",
      "5\n",
      "6\n",
      "7\n",
      "8\n",
      "9\n",
      "10\n",
      "11\n",
      "12\n",
      "13\n",
      "14\n",
      "15\n",
      "16\n",
      "17\n",
      "18\n",
      "19\n",
      "20\n",
      "21\n",
      "22\n",
      "23\n",
      "24\n",
      "25\n",
      "26\n",
      "27\n",
      "28\n",
      "29\n",
      "30\n",
      "31\n",
      "32\n",
      "33\n",
      "34\n",
      "35\n",
      "36\n",
      "37\n",
      "38\n",
      "39\n",
      "40\n",
      "41\n",
      "42\n",
      "43\n",
      "44\n",
      "45\n",
      "46\n",
      "47\n",
      "48\n",
      "49\n",
      "50\n",
      "51\n",
      "52\n",
      "53\n",
      "54\n",
      "55\n",
      "56\n",
      "57\n",
      "58\n",
      "59\n",
      "60\n",
      "61\n",
      "62\n",
      "63\n",
      "64\n",
      "65\n",
      "66\n",
      "67\n",
      "68\n",
      "69\n",
      "70\n",
      "71\n",
      "72\n",
      "73\n",
      "74\n",
      "75\n",
      "76\n",
      "77\n",
      "78\n",
      "79\n",
      "80\n",
      "81\n",
      "82\n",
      "83\n",
      "84\n",
      "85\n",
      "86\n",
      "87\n",
      "88\n",
      "89\n",
      "90\n",
      "91\n",
      "92\n",
      "93\n",
      "94\n",
      "95\n",
      "96\n",
      "97\n",
      "98\n",
      "99\n"
     ]
    }
   ],
   "source": [
    "for number in range(100):\n",
    "    print(number)"
   ]
  },
  {
   "cell_type": "code",
   "execution_count": 9,
   "id": "dad45650-6651-4e9f-8052-9bb9309e1ad7",
   "metadata": {},
   "outputs": [
    {
     "name": "stdout",
     "output_type": "stream",
     "text": [
      "1\n",
      "2\n",
      "3\n",
      "4\n",
      "5\n",
      "6\n",
      "7\n",
      "8\n",
      "9\n",
      "10\n",
      "11\n",
      "12\n",
      "13\n",
      "14\n",
      "15\n",
      "16\n",
      "17\n",
      "18\n",
      "19\n",
      "20\n",
      "21\n",
      "22\n",
      "23\n",
      "24\n",
      "25\n",
      "26\n",
      "27\n",
      "28\n",
      "29\n",
      "30\n",
      "31\n",
      "32\n",
      "33\n",
      "34\n",
      "35\n",
      "36\n",
      "37\n",
      "38\n",
      "39\n",
      "40\n",
      "41\n",
      "42\n",
      "43\n",
      "44\n",
      "45\n",
      "46\n",
      "47\n",
      "48\n",
      "49\n",
      "50\n",
      "51\n",
      "52\n",
      "53\n",
      "54\n",
      "55\n",
      "56\n",
      "57\n",
      "58\n",
      "59\n",
      "60\n",
      "61\n",
      "62\n",
      "63\n",
      "64\n",
      "65\n",
      "66\n",
      "67\n",
      "68\n",
      "69\n",
      "70\n",
      "71\n",
      "72\n",
      "73\n",
      "74\n",
      "75\n",
      "76\n",
      "77\n",
      "78\n",
      "79\n",
      "80\n",
      "81\n",
      "82\n",
      "83\n",
      "84\n",
      "85\n",
      "86\n",
      "87\n",
      "88\n",
      "89\n",
      "90\n",
      "91\n",
      "92\n",
      "93\n",
      "94\n",
      "95\n",
      "96\n",
      "97\n",
      "98\n",
      "99\n",
      "100\n"
     ]
    }
   ],
   "source": [
    "for number in range(1,101):\n",
    "    print(number)"
   ]
  },
  {
   "cell_type": "code",
   "execution_count": 10,
   "id": "bd6335d4-3e3c-4c35-bfd1-e87b52ac56d8",
   "metadata": {},
   "outputs": [
    {
     "name": "stdout",
     "output_type": "stream",
     "text": [
      "p\n",
      "y\n",
      "t\n",
      "h\n",
      "o\n",
      "n\n",
      " \n",
      "p\n",
      "r\n",
      "o\n",
      "g\n",
      "r\n",
      "a\n",
      "m\n",
      "m\n",
      "i\n",
      "n\n",
      "g\n"
     ]
    }
   ],
   "source": [
    "course=\"python programming\"\n",
    "for letter in course:\n",
    "    print(letter)"
   ]
  },
  {
   "cell_type": "code",
   "execution_count": 12,
   "id": "4589df59-0c22-49f4-a617-dd4010868e41",
   "metadata": {},
   "outputs": [
    {
     "name": "stdout",
     "output_type": "stream",
     "text": [
      "small shirt\n",
      "small pant\n",
      "big shirt\n",
      "big pant\n",
      "medium shirt\n",
      "medium pant\n"
     ]
    }
   ],
   "source": [
    "#nested-loop\n",
    "\n",
    "sizes=[\"small\",\"big\",\"medium\"]\n",
    "clothes=[\"shirt\",\"pant\"]\n",
    "\n",
    "for size in sizes:\n",
    "    for cloth in clothes:\n",
    "        print(size,cloth)"
   ]
  },
  {
   "cell_type": "code",
   "execution_count": 14,
   "id": "6fae85e3-7c39-4ee9-9041-c5f112f3f3af",
   "metadata": {},
   "outputs": [
    {
     "name": "stdout",
     "output_type": "stream",
     "text": [
      "10\n",
      "9\n",
      "8\n",
      "7\n",
      "6\n",
      "5\n",
      "4\n",
      "3\n",
      "2\n",
      "1\n"
     ]
    }
   ],
   "source": [
    "#while-loop\n",
    "\n",
    "num=10\n",
    "while num>0:\n",
    "    print(num)\n",
    "    num -=1"
   ]
  },
  {
   "cell_type": "code",
   "execution_count": 16,
   "id": "469302e2-e264-430b-942c-70bf9516d94a",
   "metadata": {},
   "outputs": [
    {
     "name": "stdout",
     "output_type": "stream",
     "text": [
      "10\n",
      "9\n",
      "8\n",
      "7\n",
      "6\n",
      "5\n"
     ]
    }
   ],
   "source": [
    "#break\n",
    "\n",
    "num=10\n",
    "while num>0:\n",
    "    if num==4:\n",
    "        break\n",
    "    print(num)\n",
    "    num -=1\n",
    "        "
   ]
  },
  {
   "cell_type": "code",
   "execution_count": null,
   "id": "cdf019df-f59a-4707-865d-fa21008883bd",
   "metadata": {},
   "outputs": [],
   "source": []
  }
 ],
 "metadata": {
  "kernelspec": {
   "display_name": "Python [conda env:base] *",
   "language": "python",
   "name": "conda-base-py"
  },
  "language_info": {
   "codemirror_mode": {
    "name": "ipython",
    "version": 3
   },
   "file_extension": ".py",
   "mimetype": "text/x-python",
   "name": "python",
   "nbconvert_exporter": "python",
   "pygments_lexer": "ipython3",
   "version": "3.13.5"
  }
 },
 "nbformat": 4,
 "nbformat_minor": 5
}
