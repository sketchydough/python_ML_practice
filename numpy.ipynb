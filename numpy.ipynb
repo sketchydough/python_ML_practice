{
 "cells": [
  {
   "cell_type": "code",
   "execution_count": 1,
   "id": "3f548bbb-30e0-4fe0-b676-952e2adf7300",
   "metadata": {},
   "outputs": [],
   "source": [
    "import numpy as np"
   ]
  },
  {
   "cell_type": "code",
   "execution_count": 3,
   "id": "8d6eb330-c471-4826-8ac0-306067665820",
   "metadata": {},
   "outputs": [
    {
     "data": {
      "text/plain": [
       "array([1, 2, 3, 4, 5])"
      ]
     },
     "execution_count": 3,
     "metadata": {},
     "output_type": "execute_result"
    }
   ],
   "source": [
    "array_1d=np.array([1,2,3,4,5])\n",
    "\n",
    "array_1d"
   ]
  },
  {
   "cell_type": "code",
   "execution_count": 7,
   "id": "0e0aaa9b-692a-4e16-92c0-a0b44d2174b9",
   "metadata": {},
   "outputs": [
    {
     "data": {
      "text/plain": [
       "array([[ 1,  2,  3,  4,  5],\n",
       "       [34, 45, 67, 78,  0]])"
      ]
     },
     "execution_count": 7,
     "metadata": {},
     "output_type": "execute_result"
    }
   ],
   "source": [
    "array_2d=np.array([[1,2,3,4,5],[34,45,67,78,0]])\n",
    "\n",
    "array_2d # note:length needs to be same otherwise error"
   ]
  },
  {
   "cell_type": "code",
   "execution_count": 8,
   "id": "8da8f511-1d5f-487e-b475-4496f06f9333",
   "metadata": {},
   "outputs": [
    {
     "data": {
      "text/plain": [
       "array([[0., 0., 0., 0.],\n",
       "       [0., 0., 0., 0.],\n",
       "       [0., 0., 0., 0.]])"
      ]
     },
     "execution_count": 8,
     "metadata": {},
     "output_type": "execute_result"
    }
   ],
   "source": [
    "#creating a 2d array of zeros\n",
    "\n",
    "zeros_arr=np.zeros((3,4))\n",
    "zeros_arr"
   ]
  },
  {
   "cell_type": "code",
   "execution_count": 9,
   "id": "b1f41fbb-4dfb-4eae-99b7-83497795bb17",
   "metadata": {},
   "outputs": [
    {
     "data": {
      "text/plain": [
       "array([1., 1., 1., 1., 1.])"
      ]
     },
     "execution_count": 9,
     "metadata": {},
     "output_type": "execute_result"
    }
   ],
   "source": [
    "#creating 1d array of ones\n",
    "\n",
    "ones_arr=np.ones(5)\n",
    "ones_arr"
   ]
  },
  {
   "cell_type": "code",
   "execution_count": 10,
   "id": "d555bb5e-8c39-441a-94b9-8981b3ccb373",
   "metadata": {},
   "outputs": [
    {
     "data": {
      "text/plain": [
       "array([0, 1, 2, 3, 4, 5, 6, 7, 8, 9])"
      ]
     },
     "execution_count": 10,
     "metadata": {},
     "output_type": "execute_result"
    }
   ],
   "source": [
    "#creating an array woth values ranging from 0-9\n",
    "\n",
    "range_arr=np.arange(10)\n",
    "range_arr"
   ]
  },
  {
   "cell_type": "code",
   "execution_count": 11,
   "id": "8d104ea9-f262-47ac-86f2-1ec68cfd0290",
   "metadata": {},
   "outputs": [
    {
     "data": {
      "text/plain": [
       "array([0.  , 0.25, 0.5 , 0.75, 1.  ])"
      ]
     },
     "execution_count": 11,
     "metadata": {},
     "output_type": "execute_result"
    }
   ],
   "source": [
    "#creating an array with 5 evenly spaced values between 0 and 1\n",
    "\n",
    "linspace_arr= np.linspace(0,1,5)\n",
    "linspace_arr"
   ]
  },
  {
   "cell_type": "code",
   "execution_count": 15,
   "id": "57522046-c712-4e43-bfcb-a54cc7107878",
   "metadata": {},
   "outputs": [
    {
     "data": {
      "text/plain": [
       "(2, 5)"
      ]
     },
     "execution_count": 15,
     "metadata": {},
     "output_type": "execute_result"
    }
   ],
   "source": [
    "#checking shape\n",
    "\n",
    "array_2d.shape"
   ]
  },
  {
   "cell_type": "code",
   "execution_count": 16,
   "id": "847888a7-335f-44eb-a0da-0fdec4366191",
   "metadata": {},
   "outputs": [
    {
     "data": {
      "text/plain": [
       "10"
      ]
     },
     "execution_count": 16,
     "metadata": {},
     "output_type": "execute_result"
    }
   ],
   "source": [
    "#checking size\n",
    "array_2d.size"
   ]
  },
  {
   "cell_type": "code",
   "execution_count": 17,
   "id": "85044e01-2970-4ac3-b4b0-1e18305bd6cd",
   "metadata": {},
   "outputs": [
    {
     "data": {
      "text/plain": [
       "dtype('int64')"
      ]
     },
     "execution_count": 17,
     "metadata": {},
     "output_type": "execute_result"
    }
   ],
   "source": [
    "#checking type\n",
    "array_2d.dtype"
   ]
  },
  {
   "cell_type": "code",
   "execution_count": 18,
   "id": "22094c80-b69f-451e-8c59-d93e0dc4c241",
   "metadata": {},
   "outputs": [
    {
     "data": {
      "text/plain": [
       "np.int64(3)"
      ]
     },
     "execution_count": 18,
     "metadata": {},
     "output_type": "execute_result"
    }
   ],
   "source": [
    "#indexing= accessing & manipulating arrays\n",
    "\n",
    "#accessing the third element\n",
    "array_1d[2]"
   ]
  },
  {
   "cell_type": "code",
   "execution_count": 19,
   "id": "8c1d4040-7105-4978-b039-7408fdb6b3a7",
   "metadata": {},
   "outputs": [
    {
     "data": {
      "text/plain": [
       "np.int64(4)"
      ]
     },
     "execution_count": 19,
     "metadata": {},
     "output_type": "execute_result"
    }
   ],
   "source": [
    "#accessing the second-last element\n",
    "array_1d[-2]"
   ]
  },
  {
   "cell_type": "code",
   "execution_count": 20,
   "id": "bf6d83cd-f064-4021-a3bb-cc565db48349",
   "metadata": {},
   "outputs": [
    {
     "data": {
      "text/plain": [
       "np.int64(67)"
      ]
     },
     "execution_count": 20,
     "metadata": {},
     "output_type": "execute_result"
    }
   ],
   "source": [
    "#accessing elements from a 2d array at row1 and col2\n",
    "array_2d[1,2]"
   ]
  },
  {
   "cell_type": "code",
   "execution_count": 21,
   "id": "2adefdf8-f199-4ed2-a30d-998d5b2e0bf7",
   "metadata": {},
   "outputs": [
    {
     "data": {
      "text/plain": [
       "array([34, 45, 67, 78,  0])"
      ]
     },
     "execution_count": 21,
     "metadata": {},
     "output_type": "execute_result"
    }
   ],
   "source": [
    "#accessing the second row\n",
    "array_2d[1]"
   ]
  },
  {
   "cell_type": "code",
   "execution_count": 23,
   "id": "11ef7430-f7ee-4f12-b588-32675a751e38",
   "metadata": {},
   "outputs": [
    {
     "data": {
      "text/plain": [
       "array([ 2, 45])"
      ]
     },
     "execution_count": 23,
     "metadata": {},
     "output_type": "execute_result"
    }
   ],
   "source": [
    "#accessing the first col\n",
    "array_2d[:,1]"
   ]
  },
  {
   "cell_type": "code",
   "execution_count": 24,
   "id": "4f4a25e4-af44-452a-aa54-274993989f19",
   "metadata": {},
   "outputs": [
    {
     "data": {
      "text/plain": [
       "array([ 4,  5, 34, 45, 67, 78])"
      ]
     },
     "execution_count": 24,
     "metadata": {},
     "output_type": "execute_result"
    }
   ],
   "source": [
    "#boolean indexing to select elements greater than 3\n",
    "boolean_index=array_2d[array_2d >3]\n",
    "boolean_index"
   ]
  },
  {
   "cell_type": "code",
   "execution_count": 27,
   "id": "87b20b4d-04a6-4f2a-a0e6-4c7d14dfab50",
   "metadata": {},
   "outputs": [
    {
     "data": {
      "text/plain": [
       "array([34, 67])"
      ]
     },
     "execution_count": 27,
     "metadata": {},
     "output_type": "execute_result"
    }
   ],
   "source": [
    "#selecting particular elements using integer array indexing\n",
    "array_2d[1,[0,2]] #here it means 1 denotes the row number which here it is second row and then fromt hat row select 0th and 2th element"
   ]
  },
  {
   "cell_type": "code",
   "execution_count": 30,
   "id": "f60433cf-42f9-4b65-9bf7-4a51cb6aa8a2",
   "metadata": {},
   "outputs": [
    {
     "data": {
      "text/plain": [
       "array([2, 3, 4])"
      ]
     },
     "execution_count": 30,
     "metadata": {},
     "output_type": "execute_result"
    }
   ],
   "source": [
    "#Slicing\n",
    "\n",
    "#slicing elements from index 1 to 3\n",
    "slice_1d=array_1d[1:4]  # it is not inclusive of 4(i.e. last index)\n",
    "slice_1d"
   ]
  },
  {
   "cell_type": "code",
   "execution_count": 32,
   "id": "fdb2a851-0ab6-4eb1-bb5e-36d07cb7c622",
   "metadata": {},
   "outputs": [
    {
     "data": {
      "text/plain": [
       "array([1, 3, 5])"
      ]
     },
     "execution_count": 32,
     "metadata": {},
     "output_type": "execute_result"
    }
   ],
   "source": [
    "#slicing elements from 0-4 index with a step of 2\n",
    "slice_step_1d=array_1d[0:5:2]\n",
    "slice_step_1d"
   ]
  },
  {
   "cell_type": "code",
   "execution_count": 33,
   "id": "c4ad0a82-b72f-4994-b315-f6c2af14c0c4",
   "metadata": {},
   "outputs": [
    {
     "data": {
      "text/plain": [
       "array([[ 1,  2],\n",
       "       [34, 45]])"
      ]
     },
     "execution_count": 33,
     "metadata": {},
     "output_type": "execute_result"
    }
   ],
   "source": [
    "#slicing a sub-array from the first two rows and cols\n",
    "\n",
    "slice_2d=array_2d[:2,:2]\n",
    "slice_2d"
   ]
  },
  {
   "cell_type": "code",
   "execution_count": 36,
   "id": "7997d38a-b957-4f50-a92b-62d85a312739",
   "metadata": {},
   "outputs": [
    {
     "data": {
      "text/plain": [
       "array([[1, 2, 3, 4, 5]])"
      ]
     },
     "execution_count": 36,
     "metadata": {},
     "output_type": "execute_result"
    }
   ],
   "source": [
    "#slicing the first row\n",
    "rows_2d=array_2d[:1]\n",
    "rows_2d"
   ]
  },
  {
   "cell_type": "code",
   "execution_count": 37,
   "id": "f2885b8d-f1a7-49bf-bb5a-259f908e6e43",
   "metadata": {},
   "outputs": [
    {
     "data": {
      "text/plain": [
       "array([5, 0])"
      ]
     },
     "execution_count": 37,
     "metadata": {},
     "output_type": "execute_result"
    }
   ],
   "source": [
    "#slicing the last column\n",
    "last_col_2d=array_2d[:,-1]\n",
    "last_col_2d"
   ]
  },
  {
   "cell_type": "code",
   "execution_count": 39,
   "id": "6dd7bc3c-ebaf-4ec3-bc4f-bb6bf82ec730",
   "metadata": {},
   "outputs": [
    {
     "data": {
      "text/plain": [
       "array([[1, 2, 3, 4, 5]])"
      ]
     },
     "execution_count": 39,
     "metadata": {},
     "output_type": "execute_result"
    }
   ],
   "source": [
    "#slicing every other row\n",
    "step_rows_2d=array_2d[::2]\n",
    "step_rows_2d"
   ]
  },
  {
   "cell_type": "code",
   "execution_count": 40,
   "id": "5ff3a589-bb34-4f3d-852e-8a4887e9bd25",
   "metadata": {},
   "outputs": [
    {
     "data": {
      "text/plain": [
       "array([[ 1,  3,  5],\n",
       "       [34, 67,  0]])"
      ]
     },
     "execution_count": 40,
     "metadata": {},
     "output_type": "execute_result"
    }
   ],
   "source": [
    "#slicing every other col\n",
    "step_cols_2d=array_2d[:,::2]\n",
    "step_cols_2d"
   ]
  },
  {
   "cell_type": "code",
   "execution_count": null,
   "id": "60ad7067-ad03-4d23-9fad-846c7b1beca0",
   "metadata": {},
   "outputs": [],
   "source": []
  }
 ],
 "metadata": {
  "kernelspec": {
   "display_name": "Python [conda env:base] *",
   "language": "python",
   "name": "conda-base-py"
  },
  "language_info": {
   "codemirror_mode": {
    "name": "ipython",
    "version": 3
   },
   "file_extension": ".py",
   "mimetype": "text/x-python",
   "name": "python",
   "nbconvert_exporter": "python",
   "pygments_lexer": "ipython3",
   "version": "3.13.5"
  }
 },
 "nbformat": 4,
 "nbformat_minor": 5
}
