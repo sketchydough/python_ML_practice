{
 "cells": [
  {
   "cell_type": "code",
   "execution_count": 1,
   "id": "e93b2051-660b-40eb-8be6-84862284087b",
   "metadata": {},
   "outputs": [
    {
     "data": {
      "text/plain": [
       "4"
      ]
     },
     "execution_count": 1,
     "metadata": {},
     "output_type": "execute_result"
    }
   ],
   "source": [
    "2+2"
   ]
  },
  {
   "cell_type": "code",
   "execution_count": 9,
   "id": "c588eacd-3b7c-4a35-8532-bc10a478bd5e",
   "metadata": {},
   "outputs": [],
   "source": [
    "#indentation- to define a block of code\n",
    "def greet(name):\n",
    "    print(\"hi\", {name})"
   ]
  },
  {
   "cell_type": "code",
   "execution_count": 5,
   "id": "59732a2f-df3c-43c4-9a2b-1faa0aaa35c6",
   "metadata": {},
   "outputs": [
    {
     "name": "stdout",
     "output_type": "stream",
     "text": [
      "hello world\n"
     ]
    }
   ],
   "source": [
    "#print\n",
    "print(\"hello world\")"
   ]
  },
  {
   "cell_type": "code",
   "execution_count": 7,
   "id": "6643227c-c68e-4ab9-910f-ef1c01e772d4",
   "metadata": {},
   "outputs": [],
   "source": [
    "#variable\n",
    "first_name='dope'"
   ]
  },
  {
   "cell_type": "code",
   "execution_count": 10,
   "id": "c05b7d0d-3365-479d-b611-4a1551819b8e",
   "metadata": {},
   "outputs": [
    {
     "name": "stdout",
     "output_type": "stream",
     "text": [
      "dope\n"
     ]
    }
   ],
   "source": [
    "print(first_name)"
   ]
  },
  {
   "cell_type": "code",
   "execution_count": 11,
   "id": "d7fceb60-91a0-4e4e-8f47-84ed4a98d9f4",
   "metadata": {},
   "outputs": [],
   "source": [
    "#datatypes-string,int, float, boolean\n",
    "last_name=\"king\"\n",
    "age=18\n",
    "weight=62.6\n",
    "isStudent=True"
   ]
  },
  {
   "cell_type": "code",
   "execution_count": 13,
   "id": "cf2319d8-803c-44cd-8a3b-4958420fc6e4",
   "metadata": {},
   "outputs": [
    {
     "data": {
      "text/plain": [
       "int"
      ]
     },
     "execution_count": 13,
     "metadata": {},
     "output_type": "execute_result"
    }
   ],
   "source": [
    "#to know a variable data-type\n",
    "\n",
    "type(age)"
   ]
  },
  {
   "cell_type": "code",
   "execution_count": 14,
   "id": "8b0bd4ed-7fc9-42d8-9e1b-8be523feb98c",
   "metadata": {},
   "outputs": [
    {
     "data": {
      "text/plain": [
       "bool"
      ]
     },
     "execution_count": 14,
     "metadata": {},
     "output_type": "execute_result"
    }
   ],
   "source": [
    "type(isStudent)"
   ]
  },
  {
   "cell_type": "code",
   "execution_count": 16,
   "id": "7d39694a-49b6-4b2a-9c64-dc8b25bd114f",
   "metadata": {},
   "outputs": [
    {
     "name": "stdout",
     "output_type": "stream",
     "text": [
      "<class 'int'>\n"
     ]
    }
   ],
   "source": [
    "#everything in python is inside a class\n",
    "print(type(age))"
   ]
  },
  {
   "cell_type": "code",
   "execution_count": 21,
   "id": "82c7dda7-f89d-4dd1-b10a-cd4280e84934",
   "metadata": {},
   "outputs": [
    {
     "name": "stdout",
     "output_type": "stream",
     "text": [
      "13\n",
      "7\n",
      "30\n",
      "3.3333333333333335\n",
      "3\n",
      "1000\n"
     ]
    }
   ],
   "source": [
    "#operators\n",
    "a=10\n",
    "b=3\n",
    "\n",
    "print(a+b)\n",
    "print(a-b)\n",
    "print(a*b)\n",
    "print(a/b)\n",
    "print(a//b) #floor division\n",
    "print(a**b) #exponentiation"
   ]
  },
  {
   "cell_type": "code",
   "execution_count": 25,
   "id": "af01ad19-cc88-410b-a2ab-231c1e8708ca",
   "metadata": {},
   "outputs": [
    {
     "name": "stdout",
     "output_type": "stream",
     "text": [
      "False\n",
      "True\n",
      "True\n"
     ]
    }
   ],
   "source": [
    "#logical operators\n",
    "a=True\n",
    "b=False\n",
    "\n",
    "print(a and b)\n",
    "print(a or b)\n",
    "print(not b)"
   ]
  },
  {
   "cell_type": "code",
   "execution_count": 27,
   "id": "64777924-3093-450f-a6dc-e63f0578210e",
   "metadata": {},
   "outputs": [
    {
     "name": "stdout",
     "output_type": "stream",
     "text": [
      "False\n",
      "False\n",
      "True\n",
      "True\n"
     ]
    }
   ],
   "source": [
    "#comparision ops\n",
    "\n",
    "a=3\n",
    "b=19\n",
    "\n",
    "print(a==b)\n",
    "print(a>b)\n",
    "print(a<=b)\n",
    "print(a!=b)"
   ]
  },
  {
   "cell_type": "code",
   "execution_count": 29,
   "id": "4d0970d7-2e54-4cde-bdcf-77862e8a4c8e",
   "metadata": {},
   "outputs": [
    {
     "name": "stdout",
     "output_type": "stream",
     "text": [
      "6\n",
      "7\n"
     ]
    }
   ],
   "source": [
    "#assignment ops\n",
    "\n",
    "a=5\n",
    "a=a+1\n",
    "b=3\n",
    "b+=4\n",
    "print(a)\n",
    "print(b)"
   ]
  },
  {
   "cell_type": "code",
   "execution_count": 30,
   "id": "89274a91-ebf3-4967-97e0-1d771c0cba9d",
   "metadata": {},
   "outputs": [
    {
     "name": "stdout",
     "output_type": "stream",
     "text": [
      "hibye\n"
     ]
    }
   ],
   "source": [
    "#concatenation\n",
    "a=\"hi\"\n",
    "b=\"bye\"\n",
    "print(a+b)"
   ]
  },
  {
   "cell_type": "code",
   "execution_count": 35,
   "id": "94f16af1-6883-4109-9a66-06c5720c3fdf",
   "metadata": {},
   "outputs": [
    {
     "name": "stdout",
     "output_type": "stream",
     "text": [
      "<class 'str'>\n",
      "<class 'int'>\n"
     ]
    }
   ],
   "source": [
    "#converting str -> int\n",
    "a=\"123\"\n",
    "print(type(a))\n",
    "a=int(123)\n",
    "print(type(a))\n"
   ]
  },
  {
   "cell_type": "code",
   "execution_count": null,
   "id": "f37ce1ed-a145-498d-aa44-4a5ae8dca255",
   "metadata": {},
   "outputs": [],
   "source": []
  }
 ],
 "metadata": {
  "kernelspec": {
   "display_name": "Python [conda env:base] *",
   "language": "python",
   "name": "conda-base-py"
  },
  "language_info": {
   "codemirror_mode": {
    "name": "ipython",
    "version": 3
   },
   "file_extension": ".py",
   "mimetype": "text/x-python",
   "name": "python",
   "nbconvert_exporter": "python",
   "pygments_lexer": "ipython3",
   "version": "3.13.5"
  }
 },
 "nbformat": 4,
 "nbformat_minor": 5
}
