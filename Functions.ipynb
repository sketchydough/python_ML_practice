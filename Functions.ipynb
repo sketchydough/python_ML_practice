{
 "cells": [
  {
   "cell_type": "code",
   "execution_count": 1,
   "id": "ea6c7f49-b031-431a-a6d3-45a0dfa8bdc8",
   "metadata": {},
   "outputs": [],
   "source": [
    "#user-defined function\n",
    "\n",
    "def greet():\n",
    "    print(\"hi welcome\")"
   ]
  },
  {
   "cell_type": "code",
   "execution_count": 2,
   "id": "5b6ce2cb-7026-4472-a492-88495ee22c8a",
   "metadata": {},
   "outputs": [
    {
     "name": "stdout",
     "output_type": "stream",
     "text": [
      "hi welcome\n"
     ]
    }
   ],
   "source": [
    "#calling a function\n",
    "greet()"
   ]
  },
  {
   "cell_type": "code",
   "execution_count": 3,
   "id": "108805a0-24ff-4be5-9a8d-5d970dea14dd",
   "metadata": {},
   "outputs": [],
   "source": [
    "#function with parameters\n",
    "\n",
    "def multiply(x,y):\n",
    "    return x*y"
   ]
  },
  {
   "cell_type": "code",
   "execution_count": 4,
   "id": "f3941ede-589f-40d8-afdd-350ef083ab1a",
   "metadata": {},
   "outputs": [
    {
     "data": {
      "text/plain": [
       "10"
      ]
     },
     "execution_count": 4,
     "metadata": {},
     "output_type": "execute_result"
    }
   ],
   "source": [
    "multiply(2,5)"
   ]
  },
  {
   "cell_type": "code",
   "execution_count": 13,
   "id": "db9f3ba6-fb7e-4652-94d8-c188f76a2063",
   "metadata": {},
   "outputs": [],
   "source": [
    "#n-arguments function\n",
    "\n",
    "def multiply(*numbers):\n",
    "    total=1\n",
    "    for number in numbers:\n",
    "        total *= number\n",
    "    return total"
   ]
  },
  {
   "cell_type": "code",
   "execution_count": 14,
   "id": "d0f3e9ab-c4ac-4599-8c86-0cb4a7ed5e57",
   "metadata": {},
   "outputs": [
    {
     "data": {
      "text/plain": [
       "36"
      ]
     },
     "execution_count": 14,
     "metadata": {},
     "output_type": "execute_result"
    }
   ],
   "source": [
    "multiply(2,3,6,1)"
   ]
  },
  {
   "cell_type": "code",
   "execution_count": 16,
   "id": "942ffb08-2628-49bd-a46b-a3d41b5f1ffd",
   "metadata": {},
   "outputs": [
    {
     "data": {
      "text/plain": [
       "25"
      ]
     },
     "execution_count": 16,
     "metadata": {},
     "output_type": "execute_result"
    }
   ],
   "source": [
    "#lambda function\n",
    "\n",
    "#lambda parameters: expression - can define as many parameters we can want but only 1 expression\n",
    "\n",
    "square=lambda x: x**2\n",
    "square(5)"
   ]
  },
  {
   "cell_type": "code",
   "execution_count": 18,
   "id": "59366d39-cf17-42db-9a76-9ee3b32a6a0f",
   "metadata": {},
   "outputs": [
    {
     "data": {
      "text/plain": [
       "[('a', 'yokoso'), ('b', 'watashi'), ('c', 'wa')]"
      ]
     },
     "execution_count": 18,
     "metadata": {},
     "output_type": "execute_result"
    }
   ],
   "source": [
    "#zip function\n",
    "\n",
    "#to print all names together. \"note: zip creates a class and is non-printbale directly, u hv to convert it into a list ot print\"\n",
    "\n",
    "first_names=[\"a\",\"b\",\"c\"]\n",
    "last_names=[\"yokoso\",\"watashi\",\"wa\"]\n",
    "\n",
    "full_names= list(zip(first_names, last_names))\n",
    "full_names"
   ]
  },
  {
   "cell_type": "code",
   "execution_count": 19,
   "id": "d6cbbe5b-60ea-42be-919c-356c3a5587b0",
   "metadata": {},
   "outputs": [
    {
     "data": {
      "text/plain": [
       "[4, 9, 16, 25]"
      ]
     },
     "execution_count": 19,
     "metadata": {},
     "output_type": "execute_result"
    }
   ],
   "source": [
    "#map-function- here to need to use list to convert and print\n",
    "\n",
    "def square(x):\n",
    "    return x**2\n",
    "\n",
    "numbers=[2,3,4,5]\n",
    "squared_nums= list(map(square,numbers))\n",
    "squared_nums"
   ]
  },
  {
   "cell_type": "code",
   "execution_count": 30,
   "id": "ac58a721-9cea-4824-8fb4-53e78738f0d7",
   "metadata": {},
   "outputs": [],
   "source": [
    "#classes- allows us to bundle data and functionally together to re-use it later\n",
    "\n",
    "#class=human \n",
    "#attributes/parameters = name,age,colour,shape,etc\n",
    "#methodsfunctions = walk,eat,talk,etc\n",
    "\n",
    "class Human:\n",
    "    def __init__(self,name,age):  #constructor\n",
    "        self.name=name\n",
    "        self.age=age\n",
    "\n",
    "    def walk(self):\n",
    "        print(f\"{self.name} is walking\")\n",
    "    def talk(self):\n",
    "        print(f\"{self.name} is talking\")\n",
    "    def ageing(self):\n",
    "        return 3.14 * self.age"
   ]
  },
  {
   "cell_type": "code",
   "execution_count": 31,
   "id": "a2fb9099-3172-424e-b798-b59bd187a4cf",
   "metadata": {},
   "outputs": [
    {
     "name": "stdout",
     "output_type": "stream",
     "text": [
      "john is walking\n"
     ]
    }
   ],
   "source": [
    "#creating object\n",
    "h1=Human(\"john\",27)\n",
    "\n",
    "h1.walk()"
   ]
  },
  {
   "cell_type": "code",
   "execution_count": 32,
   "id": "4787101f-91b0-40e2-b8d9-67895c47251e",
   "metadata": {},
   "outputs": [
    {
     "name": "stdout",
     "output_type": "stream",
     "text": [
      "37.68\n"
     ]
    }
   ],
   "source": [
    "h2=Human(\"abie\",12)\n",
    "print(h2.ageing())"
   ]
  },
  {
   "cell_type": "code",
   "execution_count": null,
   "id": "02e1a769-ff37-4bc8-a5cf-1835e5fbe9a8",
   "metadata": {},
   "outputs": [],
   "source": []
  }
 ],
 "metadata": {
  "kernelspec": {
   "display_name": "Python [conda env:base] *",
   "language": "python",
   "name": "conda-base-py"
  },
  "language_info": {
   "codemirror_mode": {
    "name": "ipython",
    "version": 3
   },
   "file_extension": ".py",
   "mimetype": "text/x-python",
   "name": "python",
   "nbconvert_exporter": "python",
   "pygments_lexer": "ipython3",
   "version": "3.13.5"
  }
 },
 "nbformat": 4,
 "nbformat_minor": 5
}
